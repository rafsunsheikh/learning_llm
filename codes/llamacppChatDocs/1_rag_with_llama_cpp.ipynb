{
 "cells": [
  {
   "cell_type": "code",
   "execution_count": 1,
   "metadata": {},
   "outputs": [
    {
     "name": "stdout",
     "output_type": "stream",
     "text": [
      "--2024-06-22 00:39:08--  https://huggingface.co/leliuga/all-MiniLM-L6-v2-GGUF/resolve/main/all-MiniLM-L6-v2.F16.gguf\n",
      "Resolving huggingface.co (huggingface.co)... 2600:9000:253f:8000:17:b174:6d00:93a1, 2600:9000:253f:7600:17:b174:6d00:93a1, 2600:9000:253f:9a00:17:b174:6d00:93a1, ...\n",
      "Connecting to huggingface.co (huggingface.co)|2600:9000:253f:8000:17:b174:6d00:93a1|:443... connected.\n",
      "HTTP request sent, awaiting response... 302 Found\n",
      "Location: https://cdn-lfs-us-1.huggingface.co/repos/68/86/688665eb5b2019706f226f4e2a0cb26c8f210c781549d129dc7f26d630ac2863/797b70c4edf85907fe0a49eb85811256f65fa0f7bf52166b147fd16be2be4662?response-content-disposition=inline%3B+filename*%3DUTF-8%27%27all-MiniLM-L6-v2.F16.gguf%3B+filename%3D%22all-MiniLM-L6-v2.F16.gguf%22%3B&Expires=1719254348&Policy=eyJTdGF0ZW1lbnQiOlt7IkNvbmRpdGlvbiI6eyJEYXRlTGVzc1RoYW4iOnsiQVdTOkVwb2NoVGltZSI6MTcxOTI1NDM0OH19LCJSZXNvdXJjZSI6Imh0dHBzOi8vY2RuLWxmcy11cy0xLmh1Z2dpbmdmYWNlLmNvL3JlcG9zLzY4Lzg2LzY4ODY2NWViNWIyMDE5NzA2ZjIyNmY0ZTJhMGNiMjZjOGYyMTBjNzgxNTQ5ZDEyOWRjN2YyNmQ2MzBhYzI4NjMvNzk3YjcwYzRlZGY4NTkwN2ZlMGE0OWViODU4MTEyNTZmNjVmYTBmN2JmNTIxNjZiMTQ3ZmQxNmJlMmJlNDY2Mj9yZXNwb25zZS1jb250ZW50LWRpc3Bvc2l0aW9uPSoifV19&Signature=yaFLEJZ0vU%7Ees159B1%7E30MnAblsXqDWy1ZCbBcCFhQotALBcGJnnO2B4KjqkQzr0KC4MC4h1jqMFixtl6cCdwHzz9xIz8kdFa7VGcTDrOC8YsBWnsltrVqbT6S3WyY1pqG85e61DGyzM%7EV%7E3nkbqAlRqDlXiAt1FB5ttT6XRPgD8cazJqiXEDAcY5CqJCLXgRtWWp5VRHeaJR9CPtPArey5NBZ-3Khc2UxXn%7EdR3CvCFI1UIsY%7Eac9hXyxKN%7EztriBvdjEflgFf9yug6rpSqO3j5staUmnvDVqf-MZXHusrEr7oj-9Jw1Y9zSl1oryD-g4i3BAjSI68PuW-BMGRcoA__&Key-Pair-Id=K2FPYV99P2N66Q [following]\n",
      "--2024-06-22 00:39:08--  https://cdn-lfs-us-1.huggingface.co/repos/68/86/688665eb5b2019706f226f4e2a0cb26c8f210c781549d129dc7f26d630ac2863/797b70c4edf85907fe0a49eb85811256f65fa0f7bf52166b147fd16be2be4662?response-content-disposition=inline%3B+filename*%3DUTF-8%27%27all-MiniLM-L6-v2.F16.gguf%3B+filename%3D%22all-MiniLM-L6-v2.F16.gguf%22%3B&Expires=1719254348&Policy=eyJTdGF0ZW1lbnQiOlt7IkNvbmRpdGlvbiI6eyJEYXRlTGVzc1RoYW4iOnsiQVdTOkVwb2NoVGltZSI6MTcxOTI1NDM0OH19LCJSZXNvdXJjZSI6Imh0dHBzOi8vY2RuLWxmcy11cy0xLmh1Z2dpbmdmYWNlLmNvL3JlcG9zLzY4Lzg2LzY4ODY2NWViNWIyMDE5NzA2ZjIyNmY0ZTJhMGNiMjZjOGYyMTBjNzgxNTQ5ZDEyOWRjN2YyNmQ2MzBhYzI4NjMvNzk3YjcwYzRlZGY4NTkwN2ZlMGE0OWViODU4MTEyNTZmNjVmYTBmN2JmNTIxNjZiMTQ3ZmQxNmJlMmJlNDY2Mj9yZXNwb25zZS1jb250ZW50LWRpc3Bvc2l0aW9uPSoifV19&Signature=yaFLEJZ0vU%7Ees159B1%7E30MnAblsXqDWy1ZCbBcCFhQotALBcGJnnO2B4KjqkQzr0KC4MC4h1jqMFixtl6cCdwHzz9xIz8kdFa7VGcTDrOC8YsBWnsltrVqbT6S3WyY1pqG85e61DGyzM%7EV%7E3nkbqAlRqDlXiAt1FB5ttT6XRPgD8cazJqiXEDAcY5CqJCLXgRtWWp5VRHeaJR9CPtPArey5NBZ-3Khc2UxXn%7EdR3CvCFI1UIsY%7Eac9hXyxKN%7EztriBvdjEflgFf9yug6rpSqO3j5staUmnvDVqf-MZXHusrEr7oj-9Jw1Y9zSl1oryD-g4i3BAjSI68PuW-BMGRcoA__&Key-Pair-Id=K2FPYV99P2N66Q\n",
      "Resolving cdn-lfs-us-1.huggingface.co (cdn-lfs-us-1.huggingface.co)... 2600:9000:2056:8e00:17:9a40:4dc0:93a1, 2600:9000:2056:b600:17:9a40:4dc0:93a1, 2600:9000:2056:6400:17:9a40:4dc0:93a1, ...\n",
      "Connecting to cdn-lfs-us-1.huggingface.co (cdn-lfs-us-1.huggingface.co)|2600:9000:2056:8e00:17:9a40:4dc0:93a1|:443... connected.\n",
      "HTTP request sent, awaiting response... 200 OK\n",
      "Length: 45949216 (44M) [application/octet-stream]\n",
      "Saving to: ‘all-MiniLM-L6-v2.F16.gguf’\n",
      "\n",
      "all-MiniLM-L6-v2.F1 100%[===================>]  43.82M  2.90MB/s    in 15s     \n",
      "\n",
      "2024-06-22 00:39:24 (2.86 MB/s) - ‘all-MiniLM-L6-v2.F16.gguf’ saved [45949216/45949216]\n",
      "\n",
      "--2024-06-22 00:39:24--  https://huggingface.co/Qwen/Qwen2-0.5B-Instruct-GGUF/resolve/main/qwen2-0_5b-instruct-q8_0.gguf\n",
      "Resolving huggingface.co (huggingface.co)... 2600:9000:253f:ce00:17:b174:6d00:93a1, 2600:9000:253f:e600:17:b174:6d00:93a1, 2600:9000:253f:f200:17:b174:6d00:93a1, ...\n",
      "Connecting to huggingface.co (huggingface.co)|2600:9000:253f:ce00:17:b174:6d00:93a1|:443... connected.\n",
      "HTTP request sent, awaiting response... 302 Found\n",
      "Location: https://cdn-lfs-us-1.huggingface.co/repos/de/a7/dea7cb7dd91181a6289326a9659bea3ef76442ab6822ba741994f21ad9825f70/834f4115ad5a836c9f17716b1577290fda96de3deb881ba45a4d5476fd202e96?response-content-disposition=inline%3B+filename*%3DUTF-8%27%27qwen2-0_5b-instruct-q8_0.gguf%3B+filename%3D%22qwen2-0_5b-instruct-q8_0.gguf%22%3B&Expires=1719254365&Policy=eyJTdGF0ZW1lbnQiOlt7IkNvbmRpdGlvbiI6eyJEYXRlTGVzc1RoYW4iOnsiQVdTOkVwb2NoVGltZSI6MTcxOTI1NDM2NX19LCJSZXNvdXJjZSI6Imh0dHBzOi8vY2RuLWxmcy11cy0xLmh1Z2dpbmdmYWNlLmNvL3JlcG9zL2RlL2E3L2RlYTdjYjdkZDkxMTgxYTYyODkzMjZhOTY1OWJlYTNlZjc2NDQyYWI2ODIyYmE3NDE5OTRmMjFhZDk4MjVmNzAvODM0ZjQxMTVhZDVhODM2YzlmMTc3MTZiMTU3NzI5MGZkYTk2ZGUzZGViODgxYmE0NWE0ZDU0NzZmZDIwMmU5Nj9yZXNwb25zZS1jb250ZW50LWRpc3Bvc2l0aW9uPSoifV19&Signature=JLnfu90zKKf2zY4HMiuy76-QkEOBoxpcvu6VyM%7EEoVMqb5uYJocwLG8o6M9UPo81wycYes0lbtZWyFfIAW8e2t9y5s19OodW--j-04cfQosDeOetiZJveuqX%7EvawqvUNgU0jiRvJ9SosLqdNZdFC7RkLkhA4c7RFSDP2Rf8BHodQR61FhZoKGTTJgXJpZhq4eg7jwD%7E5JHXyUEuNn2O3tpxaXhT4x6e%7EAEjNL1n5J61K7cNtlmRo4F04vHBMP7K%7EGMtGT3doeuSsGhcbqsoc8ZydqNN1TU6ObX%7ECwWnG-gwK3izE-twUtHVwLUzqoyDPAl5cis6UNk3Km5enoIxoGQ__&Key-Pair-Id=K2FPYV99P2N66Q [following]\n",
      "--2024-06-22 00:39:25--  https://cdn-lfs-us-1.huggingface.co/repos/de/a7/dea7cb7dd91181a6289326a9659bea3ef76442ab6822ba741994f21ad9825f70/834f4115ad5a836c9f17716b1577290fda96de3deb881ba45a4d5476fd202e96?response-content-disposition=inline%3B+filename*%3DUTF-8%27%27qwen2-0_5b-instruct-q8_0.gguf%3B+filename%3D%22qwen2-0_5b-instruct-q8_0.gguf%22%3B&Expires=1719254365&Policy=eyJTdGF0ZW1lbnQiOlt7IkNvbmRpdGlvbiI6eyJEYXRlTGVzc1RoYW4iOnsiQVdTOkVwb2NoVGltZSI6MTcxOTI1NDM2NX19LCJSZXNvdXJjZSI6Imh0dHBzOi8vY2RuLWxmcy11cy0xLmh1Z2dpbmdmYWNlLmNvL3JlcG9zL2RlL2E3L2RlYTdjYjdkZDkxMTgxYTYyODkzMjZhOTY1OWJlYTNlZjc2NDQyYWI2ODIyYmE3NDE5OTRmMjFhZDk4MjVmNzAvODM0ZjQxMTVhZDVhODM2YzlmMTc3MTZiMTU3NzI5MGZkYTk2ZGUzZGViODgxYmE0NWE0ZDU0NzZmZDIwMmU5Nj9yZXNwb25zZS1jb250ZW50LWRpc3Bvc2l0aW9uPSoifV19&Signature=JLnfu90zKKf2zY4HMiuy76-QkEOBoxpcvu6VyM%7EEoVMqb5uYJocwLG8o6M9UPo81wycYes0lbtZWyFfIAW8e2t9y5s19OodW--j-04cfQosDeOetiZJveuqX%7EvawqvUNgU0jiRvJ9SosLqdNZdFC7RkLkhA4c7RFSDP2Rf8BHodQR61FhZoKGTTJgXJpZhq4eg7jwD%7E5JHXyUEuNn2O3tpxaXhT4x6e%7EAEjNL1n5J61K7cNtlmRo4F04vHBMP7K%7EGMtGT3doeuSsGhcbqsoc8ZydqNN1TU6ObX%7ECwWnG-gwK3izE-twUtHVwLUzqoyDPAl5cis6UNk3Km5enoIxoGQ__&Key-Pair-Id=K2FPYV99P2N66Q\n",
      "Resolving cdn-lfs-us-1.huggingface.co (cdn-lfs-us-1.huggingface.co)... 2600:9000:2056:c400:17:9a40:4dc0:93a1, 2600:9000:2056:f400:17:9a40:4dc0:93a1, 2600:9000:2056:e200:17:9a40:4dc0:93a1, ...\n",
      "Connecting to cdn-lfs-us-1.huggingface.co (cdn-lfs-us-1.huggingface.co)|2600:9000:2056:c400:17:9a40:4dc0:93a1|:443... connected.\n",
      "HTTP request sent, awaiting response... 200 OK\n",
      "Length: 531065536 (506M) [binary/octet-stream]\n",
      "Saving to: ‘qwen2-0_5b-instruct-q8_0.gguf’\n",
      "\n",
      "qwen2-0_5b-instruct 100%[===================>] 506.46M  2.88MB/s    in 2m 59s  \n",
      "\n",
      "2024-06-22 00:42:25 (2.83 MB/s) - ‘qwen2-0_5b-instruct-q8_0.gguf’ saved [531065536/531065536]\n",
      "\n",
      "--2024-06-22 00:42:25--  https://github.com/fabiomatricardi/How-I-Built-a-Chatbot-that-Crushed-ChatGPT/raw/main/What%20is%20Entrepreneurship%205%20Factors%20Affecting%20Ent.txt\n",
      "Resolving github.com (github.com)... 20.205.243.166\n",
      "Connecting to github.com (github.com)|20.205.243.166|:443... connected.\n",
      "HTTP request sent, awaiting response... 302 Found\n",
      "Location: https://raw.githubusercontent.com/fabiomatricardi/How-I-Built-a-Chatbot-that-Crushed-ChatGPT/main/What%20is%20Entrepreneurship%205%20Factors%20Affecting%20Ent.txt [following]\n",
      "--2024-06-22 00:42:26--  https://raw.githubusercontent.com/fabiomatricardi/How-I-Built-a-Chatbot-that-Crushed-ChatGPT/main/What%20is%20Entrepreneurship%205%20Factors%20Affecting%20Ent.txt\n",
      "Resolving raw.githubusercontent.com (raw.githubusercontent.com)... 2606:50c0:8002::154, 2606:50c0:8003::154, 2606:50c0:8000::154, ...\n",
      "Connecting to raw.githubusercontent.com (raw.githubusercontent.com)|2606:50c0:8002::154|:443... connected.\n",
      "HTTP request sent, awaiting response... 200 OK\n",
      "Length: 17389 (17K) [text/plain]\n",
      "Saving to: ‘What is Entrepreneurship 5 Factors Affecting Ent.txt’\n",
      "\n",
      "What is Entrepreneu 100%[===================>]  16.98K  --.-KB/s    in 0.005s  \n",
      "\n",
      "2024-06-22 00:42:26 (3.67 MB/s) - ‘What is Entrepreneurship 5 Factors Affecting Ent.txt’ saved [17389/17389]\n",
      "\n"
     ]
    }
   ],
   "source": [
    "!wget https://huggingface.co/leliuga/all-MiniLM-L6-v2-GGUF/resolve/main/all-MiniLM-L6-v2.F16.gguf\n",
    "!wget https://huggingface.co/Qwen/Qwen2-0.5B-Instruct-GGUF/resolve/main/qwen2-0_5b-instruct-q8_0.gguf\n",
    "!wget https://github.com/fabiomatricardi/How-I-Built-a-Chatbot-that-Crushed-ChatGPT/raw/main/What%20is%20Entrepreneurship%205%20Factors%20Affecting%20Ent.txt"
   ]
  },
  {
   "cell_type": "code",
   "execution_count": 2,
   "metadata": {},
   "outputs": [],
   "source": [
    "from rich.markdown import Markdown\n",
    "import warnings\n",
    "warnings.filterwarnings(action=\"ignore\")\n",
    "import datetime\n",
    "from rich.console import Console\n",
    "console = Console(width=90)\n",
    "import tiktoken\n",
    "from time import sleep\n",
    "encoding = tiktoken.get_encoding(\"r50k_base\")\n",
    "\n",
    "from langchain.text_splitter import TokenTextSplitter\n",
    "from langchain_community.document_loaders import TextLoader\n",
    "from langchain_community.vectorstores import FAISS\n",
    "from langchain_community.embeddings import LlamaCppEmbeddings\n",
    "from llama_cpp import Llama\n",
    "from langchain_text_splitters import CharacterTextSplitter"
   ]
  },
  {
   "cell_type": "markdown",
   "metadata": {},
   "source": [
    "### Load the embeddings and model with Llama.cpp"
   ]
  },
  {
   "cell_type": "code",
   "execution_count": 4,
   "metadata": {},
   "outputs": [
    {
     "name": "stderr",
     "output_type": "stream",
     "text": [
      "llama_model_loader: loaded meta data with 23 key-value pairs and 101 tensors from all-MiniLM-L6-v2.F16.gguf (version GGUF V3 (latest))\n",
      "llama_model_loader: Dumping metadata keys/values. Note: KV overrides do not apply in this output.\n",
      "llama_model_loader: - kv   0:                       general.architecture str              = bert\n",
      "llama_model_loader: - kv   1:                               general.name str              = all-MiniLM-L6-v2\n",
      "llama_model_loader: - kv   2:                           bert.block_count u32              = 6\n",
      "llama_model_loader: - kv   3:                        bert.context_length u32              = 512\n",
      "llama_model_loader: - kv   4:                      bert.embedding_length u32              = 384\n",
      "llama_model_loader: - kv   5:                   bert.feed_forward_length u32              = 1536\n",
      "llama_model_loader: - kv   6:                  bert.attention.head_count u32              = 12\n",
      "llama_model_loader: - kv   7:          bert.attention.layer_norm_epsilon f32              = 0.000000\n",
      "llama_model_loader: - kv   8:                          general.file_type u32              = 1\n",
      "llama_model_loader: - kv   9:                      bert.attention.causal bool             = false\n",
      "llama_model_loader: - kv  10:                          bert.pooling_type u32              = 1\n",
      "llama_model_loader: - kv  11:            tokenizer.ggml.token_type_count u32              = 2\n",
      "llama_model_loader: - kv  12:                tokenizer.ggml.bos_token_id u32              = 101\n",
      "llama_model_loader: - kv  13:                tokenizer.ggml.eos_token_id u32              = 102\n",
      "llama_model_loader: - kv  14:                       tokenizer.ggml.model str              = bert\n",
      "llama_model_loader: - kv  15:                      tokenizer.ggml.tokens arr[str,30522]   = [\"[PAD]\", \"[unused0]\", \"[unused1]\", \"...\n"
     ]
    },
    {
     "name": "stderr",
     "output_type": "stream",
     "text": [
      "llama_model_loader: - kv  16:                      tokenizer.ggml.scores arr[f32,30522]   = [-1000.000000, -1000.000000, -1000.00...\n",
      "llama_model_loader: - kv  17:                  tokenizer.ggml.token_type arr[i32,30522]   = [3, 1, 1, 1, 1, 1, 1, 1, 1, 1, 1, 1, ...\n",
      "llama_model_loader: - kv  18:            tokenizer.ggml.unknown_token_id u32              = 100\n",
      "llama_model_loader: - kv  19:          tokenizer.ggml.seperator_token_id u32              = 102\n",
      "llama_model_loader: - kv  20:            tokenizer.ggml.padding_token_id u32              = 0\n",
      "llama_model_loader: - kv  21:                tokenizer.ggml.cls_token_id u32              = 101\n",
      "llama_model_loader: - kv  22:               tokenizer.ggml.mask_token_id u32              = 103\n",
      "llama_model_loader: - type  f32:   63 tensors\n",
      "llama_model_loader: - type  f16:   38 tensors\n",
      "llm_load_vocab: special tokens cache size = 5\n",
      "llm_load_vocab: token to piece cache size = 0.2032 MB\n",
      "llm_load_print_meta: format           = GGUF V3 (latest)\n",
      "llm_load_print_meta: arch             = bert\n",
      "llm_load_print_meta: vocab type       = WPM\n",
      "llm_load_print_meta: n_vocab          = 30522\n",
      "llm_load_print_meta: n_merges         = 0\n",
      "llm_load_print_meta: n_ctx_train      = 512\n",
      "llm_load_print_meta: n_embd           = 384\n",
      "llm_load_print_meta: n_head           = 12\n",
      "llm_load_print_meta: n_head_kv        = 12\n",
      "llm_load_print_meta: n_layer          = 6\n",
      "llm_load_print_meta: n_rot            = 32\n",
      "llm_load_print_meta: n_embd_head_k    = 32\n",
      "llm_load_print_meta: n_embd_head_v    = 32\n",
      "llm_load_print_meta: n_gqa            = 1\n",
      "llm_load_print_meta: n_embd_k_gqa     = 384\n",
      "llm_load_print_meta: n_embd_v_gqa     = 384\n",
      "llm_load_print_meta: f_norm_eps       = 1.0e-12\n",
      "llm_load_print_meta: f_norm_rms_eps   = 0.0e+00\n",
      "llm_load_print_meta: f_clamp_kqv      = 0.0e+00\n",
      "llm_load_print_meta: f_max_alibi_bias = 0.0e+00\n",
      "llm_load_print_meta: f_logit_scale    = 0.0e+00\n",
      "llm_load_print_meta: n_ff             = 1536\n",
      "llm_load_print_meta: n_expert         = 0\n",
      "llm_load_print_meta: n_expert_used    = 0\n",
      "llm_load_print_meta: causal attn      = 0\n",
      "llm_load_print_meta: pooling type     = 1\n",
      "llm_load_print_meta: rope type        = 2\n",
      "llm_load_print_meta: rope scaling     = linear\n",
      "llm_load_print_meta: freq_base_train  = 10000.0\n",
      "llm_load_print_meta: freq_scale_train = 1\n",
      "llm_load_print_meta: n_ctx_orig_yarn  = 512\n",
      "llm_load_print_meta: rope_finetuned   = unknown\n",
      "llm_load_print_meta: ssm_d_conv       = 0\n",
      "llm_load_print_meta: ssm_d_inner      = 0\n",
      "llm_load_print_meta: ssm_d_state      = 0\n",
      "llm_load_print_meta: ssm_dt_rank      = 0\n",
      "llm_load_print_meta: model type       = 22M\n",
      "llm_load_print_meta: model ftype      = F16\n",
      "llm_load_print_meta: model params     = 22.57 M\n",
      "llm_load_print_meta: model size       = 43.10 MiB (16.02 BPW) \n",
      "llm_load_print_meta: general.name     = all-MiniLM-L6-v2\n",
      "llm_load_print_meta: BOS token        = 101 '[CLS]'\n",
      "llm_load_print_meta: EOS token        = 102 '[SEP]'\n",
      "llm_load_print_meta: UNK token        = 100 '[UNK]'\n",
      "llm_load_print_meta: SEP token        = 102 '[SEP]'\n",
      "llm_load_print_meta: PAD token        = 0 '[PAD]'\n",
      "llm_load_print_meta: CLS token        = 101 '[CLS]'\n",
      "llm_load_print_meta: MASK token       = 103 '[MASK]'\n",
      "llm_load_print_meta: LF token         = 0 '[PAD]'\n",
      "llm_load_tensors: ggml ctx size =    0.05 MiB\n",
      "llm_load_tensors:        CPU buffer size =    43.10 MiB\n",
      "...............................\n",
      "llama_new_context_with_model: n_ctx      = 512\n",
      "llama_new_context_with_model: n_batch    = 512\n",
      "llama_new_context_with_model: n_ubatch   = 512\n",
      "llama_new_context_with_model: flash_attn = 0\n",
      "llama_new_context_with_model: freq_base  = 10000.0\n",
      "llama_new_context_with_model: freq_scale = 1\n",
      "llama_kv_cache_init:        CPU KV buffer size =     4.50 MiB\n",
      "llama_new_context_with_model: KV self size  =    4.50 MiB, K (f16):    2.25 MiB, V (f16):    2.25 MiB\n",
      "llama_new_context_with_model:        CPU  output buffer size =     0.00 MiB\n",
      "llama_new_context_with_model:        CPU compute buffer size =    17.00 MiB\n",
      "llama_new_context_with_model: graph nodes  = 221\n",
      "llama_new_context_with_model: graph splits = 1\n",
      "AVX = 1 | AVX_VNNI = 0 | AVX2 = 1 | AVX512 = 0 | AVX512_VBMI = 0 | AVX512_VNNI = 0 | AVX512_BF16 = 0 | FMA = 1 | NEON = 0 | SVE = 0 | ARM_FMA = 0 | F16C = 1 | FP16_VA = 0 | WASM_SIMD = 0 | BLAS = 0 | SSE3 = 1 | SSSE3 = 1 | VSX = 0 | MATMUL_INT8 = 0 | LLAMAFILE = 1 | \n",
      "Model metadata: {'tokenizer.ggml.mask_token_id': '103', 'tokenizer.ggml.padding_token_id': '0', 'tokenizer.ggml.seperator_token_id': '102', 'tokenizer.ggml.unknown_token_id': '100', 'tokenizer.ggml.model': 'bert', 'tokenizer.ggml.eos_token_id': '102', 'general.architecture': 'bert', 'bert.block_count': '6', 'bert.attention.layer_norm_epsilon': '0.000000', 'bert.context_length': '512', 'bert.feed_forward_length': '1536', 'bert.embedding_length': '384', 'tokenizer.ggml.cls_token_id': '101', 'tokenizer.ggml.token_type_count': '2', 'bert.attention.head_count': '12', 'tokenizer.ggml.bos_token_id': '101', 'general.file_type': '1', 'general.name': 'all-MiniLM-L6-v2', 'bert.attention.causal': 'false', 'bert.pooling_type': '1'}\n",
      "Using fallback chat format: llama-2\n"
     ]
    }
   ],
   "source": [
    "embedding_path = \"models/all-MiniLM-L6-v2.F16.gguf\"\n",
    "embeddings = LlamaCppEmbeddings(model_path=embedding_path)"
   ]
  },
  {
   "cell_type": "code",
   "execution_count": 5,
   "metadata": {},
   "outputs": [],
   "source": [
    "qwen05b = Llama(\n",
    "    model_path = \"models/qwen2-0_5b-instruct-q8_0.gguf\",\n",
    "    n_gpu_layers=0,\n",
    "    temperature=0.1,\n",
    "    top_p = 0.5,\n",
    "    n_ctx = 8132,\n",
    "    max_tokens = 600,\n",
    "    repeat_penalty = 1.7,\n",
    "    stop = [\"<|im_end|>\", \"Instruction:\", \"### Instruction\", \"###<user>\", \"</user>\"],\n",
    "    verbose=False,\n",
    "\n",
    ")"
   ]
  },
  {
   "cell_type": "markdown",
   "metadata": {},
   "source": [
    "### Load the document and create a vector database"
   ]
  },
  {
   "cell_type": "code",
   "execution_count": 7,
   "metadata": {},
   "outputs": [
    {
     "name": "stderr",
     "output_type": "stream",
     "text": [
      "Exception ignored in: <function Llama.__del__ at 0x75082c349620>\n",
      "Traceback (most recent call last):\n",
      "  File \"/media/rafsunsheikh/10784ce9-f796-443d-b973-fe6ae114c687/home/Study/Projects/learning_llm/env/lib/python3.12/site-packages/llama_cpp/llama.py\", line 1972, in __del__\n",
      "    self.close()\n",
      "  File \"/media/rafsunsheikh/10784ce9-f796-443d-b973-fe6ae114c687/home/Study/Projects/learning_llm/env/lib/python3.12/site-packages/llama_cpp/llama.py\", line 1969, in close\n",
      "    self._stack.close()\n",
      "    ^^^^^^^^^^^\n",
      "AttributeError: 'Llama' object has no attribute '_stack'\n"
     ]
    }
   ],
   "source": [
    "# Load the txt document\n",
    "loader = TextLoader(\"What is Entrepreneurship 5 Factors Affecting Ent.txt\")\n",
    "# Create a document and split into chunks\n",
    "documents  = loader.load()\n",
    "text_splitter = TokenTextSplitter(chunk_size=150, chunk_overlap=0)\n",
    "texts = text_splitter.split_documents(documents)\n",
    "# Create a vector store\n",
    "vector_store = FAISS.from_documents(texts, embeddings)"
   ]
  },
  {
   "cell_type": "markdown",
   "metadata": {},
   "source": [
    "### Run the similarity search"
   ]
  },
  {
   "cell_type": "code",
   "execution_count": 9,
   "metadata": {},
   "outputs": [
    {
     "data": {
      "text/html": [
       "<pre style=\"white-space:pre;overflow-x:auto;line-height:normal;font-family:Menlo,'DejaVu Sans Mono',consolas,'Courier New',monospace\"><span style=\"font-weight: bold\">[</span>\n",
       "    <span style=\"color: #800080; text-decoration-color: #800080; font-weight: bold\">Document</span><span style=\"font-weight: bold\">(</span>\n",
       "        <span style=\"color: #808000; text-decoration-color: #808000\">page_content</span>=<span style=\"color: #008000; text-decoration-color: #008000\">' success.\\nBy carefully considering these factors, entrepreneurs can</span>\n",
       "<span style=\"color: #008000; text-decoration-color: #008000\">increase their chances of navigating the challenges and maximizing the opportunities </span>\n",
       "<span style=\"color: #008000; text-decoration-color: #008000\">within the dynamic world of entrepreneurship.\\nVI. Step-by-step guide to get started with </span>\n",
       "<span style=\"color: #008000; text-decoration-color: #008000\">entrepreneurship\\nStep-by-step guide to get started with entrepreneurship\\nThe world of </span>\n",
       "<span style=\"color: #008000; text-decoration-color: #008000\">entrepreneurship beckons with the promise of innovation, independence, and the chance to </span>\n",
       "<span style=\"color: #008000; text-decoration-color: #008000\">make a real difference. If you’re brimming with an idea and ready to embark on this </span>\n",
       "<span style=\"color: #008000; text-decoration-color: #008000\">exciting path, here’s a roadmap to guide you through the initial stages:\\n1. Validate Your</span>\n",
       "<span style=\"color: #008000; text-decoration-color: #008000\">Idea\\nMarket Research: Don’t be afraid to get out there and talk to people! Conduct </span>\n",
       "<span style=\"color: #008000; text-decoration-color: #008000\">thorough market research to understand if there’s a'</span>,\n",
       "        <span style=\"color: #808000; text-decoration-color: #808000\">metadata</span>=<span style=\"font-weight: bold\">{</span><span style=\"color: #008000; text-decoration-color: #008000\">'source'</span>: <span style=\"color: #008000; text-decoration-color: #008000\">'What is Entrepreneurship 5 Factors Affecting Ent.txt'</span><span style=\"font-weight: bold\">}</span>\n",
       "    <span style=\"font-weight: bold\">)</span>,\n",
       "    <span style=\"color: #800080; text-decoration-color: #800080; font-weight: bold\">Document</span><span style=\"font-weight: bold\">(</span>\n",
       "        <span style=\"color: #808000; text-decoration-color: #808000\">page_content</span>=<span style=\"color: #008000; text-decoration-color: #008000\">' Practices and Examples\\n3. Secure Funding\\nBootstrapping: Many </span>\n",
       "<span style=\"color: #008000; text-decoration-color: #008000\">entrepreneurs start by bootstrapping their businesses using personal savings, loans from </span>\n",
       "<span style=\"color: #008000; text-decoration-color: #008000\">family and friends, or crowdfunding platforms.\\nSeeking Investors: For ventures requiring </span>\n",
       "<span style=\"color: #008000; text-decoration-color: #008000\">significant capital, exploring options like angel investors or venture capital firms might</span>\n",
       "<span style=\"color: #008000; text-decoration-color: #008000\">be necessary. Be prepared to present a compelling pitch that highlights the potential of </span>\n",
       "<span style=\"color: #008000; text-decoration-color: #008000\">your business.\\n4. Build Your Team\\nAssemble Your A-Team: Surround yourself with talented </span>\n",
       "<span style=\"color: #008000; text-decoration-color: #008000\">and passionate individuals who complement your skillset. Delegate tasks effectively and </span>\n",
       "<span style=\"color: #008000; text-decoration-color: #008000\">foster a collaborative environment where everyone feels valued and empowered to </span>\n",
       "<span style=\"color: #008000; text-decoration-color: #008000\">contribute.\\n5. Choose a Business Structure\\nSole Proprietorship, Partnership, LLC, or </span>\n",
       "<span style=\"color: #008000; text-decoration-color: #008000\">Corporation? The legal structure you choose for your'</span>,\n",
       "        <span style=\"color: #808000; text-decoration-color: #808000\">metadata</span>=<span style=\"font-weight: bold\">{</span><span style=\"color: #008000; text-decoration-color: #008000\">'source'</span>: <span style=\"color: #008000; text-decoration-color: #008000\">'What is Entrepreneurship 5 Factors Affecting Ent.txt'</span><span style=\"font-weight: bold\">}</span>\n",
       "    <span style=\"font-weight: bold\">)</span>,\n",
       "    <span style=\"color: #800080; text-decoration-color: #800080; font-weight: bold\">Document</span><span style=\"font-weight: bold\">(</span>\n",
       "        <span style=\"color: #808000; text-decoration-color: #808000\">page_content</span>=<span style=\"color: #008000; text-decoration-color: #008000\">' us. Here’s why entrepreneurship is so important:\\n1. Driving </span>\n",
       "<span style=\"color: #008000; text-decoration-color: #008000\">Economic Growth: Entrepreneurs are the lifeblood of economic dynamism. By starting new </span>\n",
       "<span style=\"color: #008000; text-decoration-color: #008000\">businesses, they create jobs, stimulate competition, and introduce innovative products and</span>\n",
       "<span style=\"color: #008000; text-decoration-color: #008000\">services. This fosters a healthy and growing economy for everyone.\\n2. Fostering </span>\n",
       "<span style=\"color: #008000; text-decoration-color: #008000\">Innovation: Entrepreneurs are constantly pushing boundaries and seeking solutions to </span>\n",
       "<span style=\"color: #008000; text-decoration-color: #008000\">problems. Their drive to create something new leads to breakthroughs in technology, </span>\n",
       "<span style=\"color: #008000; text-decoration-color: #008000\">business models, and social approaches. This continuous innovation keeps industries </span>\n",
       "<span style=\"color: #008000; text-decoration-color: #008000\">evolving and benefits society as a whole.\\n3. Job Creation: New businesses create new </span>\n",
       "<span style=\"color: #008000; text-decoration-color: #008000\">jobs. In fact, startups and small businesses are responsible for a significant portion of </span>\n",
       "<span style=\"color: #008000; text-decoration-color: #008000\">job growth in many economies. Entrepreneurship provides opportunities'</span>,\n",
       "        <span style=\"color: #808000; text-decoration-color: #808000\">metadata</span>=<span style=\"font-weight: bold\">{</span><span style=\"color: #008000; text-decoration-color: #008000\">'source'</span>: <span style=\"color: #008000; text-decoration-color: #008000\">'What is Entrepreneurship 5 Factors Affecting Ent.txt'</span><span style=\"font-weight: bold\">}</span>\n",
       "    <span style=\"font-weight: bold\">)</span>\n",
       "<span style=\"font-weight: bold\">]</span>\n",
       "</pre>\n"
      ],
      "text/plain": [
       "\u001b[1m[\u001b[0m\n",
       "    \u001b[1;35mDocument\u001b[0m\u001b[1m(\u001b[0m\n",
       "        \u001b[33mpage_content\u001b[0m=\u001b[32m' success.\\nBy carefully considering these factors, entrepreneurs can\u001b[0m\n",
       "\u001b[32mincrease their chances of navigating the challenges and maximizing the opportunities \u001b[0m\n",
       "\u001b[32mwithin the dynamic world of entrepreneurship.\\nVI. Step-by-step guide to get started with \u001b[0m\n",
       "\u001b[32mentrepreneurship\\nStep-by-step guide to get started with entrepreneurship\\nThe world of \u001b[0m\n",
       "\u001b[32mentrepreneurship beckons with the promise of innovation, independence, and the chance to \u001b[0m\n",
       "\u001b[32mmake a real difference. If you’re brimming with an idea and ready to embark on this \u001b[0m\n",
       "\u001b[32mexciting path, here’s a roadmap to guide you through the initial stages:\\n1. Validate Your\u001b[0m\n",
       "\u001b[32mIdea\\nMarket Research: Don’t be afraid to get out there and talk to people! Conduct \u001b[0m\n",
       "\u001b[32mthorough market research to understand if there’s a'\u001b[0m,\n",
       "        \u001b[33mmetadata\u001b[0m=\u001b[1m{\u001b[0m\u001b[32m'source'\u001b[0m: \u001b[32m'What is Entrepreneurship 5 Factors Affecting Ent.txt'\u001b[0m\u001b[1m}\u001b[0m\n",
       "    \u001b[1m)\u001b[0m,\n",
       "    \u001b[1;35mDocument\u001b[0m\u001b[1m(\u001b[0m\n",
       "        \u001b[33mpage_content\u001b[0m=\u001b[32m' Practices and Examples\\n3. Secure Funding\\nBootstrapping: Many \u001b[0m\n",
       "\u001b[32mentrepreneurs start by bootstrapping their businesses using personal savings, loans from \u001b[0m\n",
       "\u001b[32mfamily and friends, or crowdfunding platforms.\\nSeeking Investors: For ventures requiring \u001b[0m\n",
       "\u001b[32msignificant capital, exploring options like angel investors or venture capital firms might\u001b[0m\n",
       "\u001b[32mbe necessary. Be prepared to present a compelling pitch that highlights the potential of \u001b[0m\n",
       "\u001b[32myour business.\\n4. Build Your Team\\nAssemble Your A-Team: Surround yourself with talented \u001b[0m\n",
       "\u001b[32mand passionate individuals who complement your skillset. Delegate tasks effectively and \u001b[0m\n",
       "\u001b[32mfoster a collaborative environment where everyone feels valued and empowered to \u001b[0m\n",
       "\u001b[32mcontribute.\\n5. Choose a Business Structure\\nSole Proprietorship, Partnership, LLC, or \u001b[0m\n",
       "\u001b[32mCorporation? The legal structure you choose for your'\u001b[0m,\n",
       "        \u001b[33mmetadata\u001b[0m=\u001b[1m{\u001b[0m\u001b[32m'source'\u001b[0m: \u001b[32m'What is Entrepreneurship 5 Factors Affecting Ent.txt'\u001b[0m\u001b[1m}\u001b[0m\n",
       "    \u001b[1m)\u001b[0m,\n",
       "    \u001b[1;35mDocument\u001b[0m\u001b[1m(\u001b[0m\n",
       "        \u001b[33mpage_content\u001b[0m=\u001b[32m' us. Here’s why entrepreneurship is so important:\\n1. Driving \u001b[0m\n",
       "\u001b[32mEconomic Growth: Entrepreneurs are the lifeblood of economic dynamism. By starting new \u001b[0m\n",
       "\u001b[32mbusinesses, they create jobs, stimulate competition, and introduce innovative products and\u001b[0m\n",
       "\u001b[32mservices. This fosters a healthy and growing economy for everyone.\\n2. Fostering \u001b[0m\n",
       "\u001b[32mInnovation: Entrepreneurs are constantly pushing boundaries and seeking solutions to \u001b[0m\n",
       "\u001b[32mproblems. Their drive to create something new leads to breakthroughs in technology, \u001b[0m\n",
       "\u001b[32mbusiness models, and social approaches. This continuous innovation keeps industries \u001b[0m\n",
       "\u001b[32mevolving and benefits society as a whole.\\n3. Job Creation: New businesses create new \u001b[0m\n",
       "\u001b[32mjobs. In fact, startups and small businesses are responsible for a significant portion of \u001b[0m\n",
       "\u001b[32mjob growth in many economies. Entrepreneurship provides opportunities'\u001b[0m,\n",
       "        \u001b[33mmetadata\u001b[0m=\u001b[1m{\u001b[0m\u001b[32m'source'\u001b[0m: \u001b[32m'What is Entrepreneurship 5 Factors Affecting Ent.txt'\u001b[0m\u001b[1m}\u001b[0m\n",
       "    \u001b[1m)\u001b[0m\n",
       "\u001b[1m]\u001b[0m\n"
      ]
     },
     "metadata": {},
     "output_type": "display_data"
    }
   ],
   "source": [
    "retriever = vector_store.as_retriever(search_kwargs={\"k\":3})\n",
    "# Here using maximal marginal relevance\n",
    "retriever = vector_store.as_retriever(search_type = \"mmr\", search_kwargs={\"k\":3})\n",
    "\n",
    "# Call the retriever on the user query\n",
    "docs = retriever.invoke(\"What to do to get started with entrepreneurship?\")\n",
    "# print the results\n",
    "console.print(docs)"
   ]
  },
  {
   "cell_type": "markdown",
   "metadata": {},
   "source": [
    "### Prompt for the user query"
   ]
  },
  {
   "cell_type": "code",
   "execution_count": 12,
   "metadata": {},
   "outputs": [],
   "source": [
    "# Function for QnA over a context.\n",
    "def QwenQnA(question, vector_store, hits, maxtokens, model):\n",
    "    \"\"\"\n",
    "    basic generation with Qwen2-0.5b-Instruct/ any llama.cpp loaded model \n",
    "    question -> string\n",
    "    vector_store -> a FAISS object\n",
    "    hits -> number of results from the similarity search\n",
    "    maxtokens -> int, number of max tokens to generate\n",
    "    model -> llama-cpp-python instance // here is Qwen2-0.5b-Instruct\n",
    "    RETURNS output -> str, docs -> list of langchain documents from similarity search\n",
    "    \"\"\"\n",
    "\n",
    "    # docs_and_scores = vector_store.similarity_search_with_score(question, k=3) # or .similarity_search_with_relevance_scores()\n",
    "    retriever = vector_store.as_retriever(search_type = \"mmr\", search_kwargs={\"k\": hits})\n",
    "    docs = retriever.invoke(question)\n",
    "    # pack all the text from the retriever hits and remove carriage return\n",
    "    context = ''\n",
    "    for i in docs:\n",
    "        context += i.page_content\n",
    "    contesto = context.replace('\\n\\n','')\n",
    "    query = question\n",
    "    start = datetime.datetime.now()\n",
    "    # Create the prompt template\n",
    "    template = f\"\"\"ANswer the question based only on the following context:\n",
    "   \n",
    "    [context]\n",
    "    {contesto}\n",
    "    [end of context]\n",
    "\n",
    "    Question: {query}\n",
    "\n",
    "    \"\"\"\n",
    "\n",
    "    # Structure the prompt into a chat template\n",
    "    messages = [\n",
    "        {\"role\": \"system\", \"content\": \"You are a language Model trained to answer questions based solely on the provided text.\",},\n",
    "        {\"role\": \"user\", \"content\": template},\n",
    "    ]\n",
    "    with console.status(\"Qwen-0.5b-Chat AI is working ✅✅✅ ...\", spinner=\"dots12\"):\n",
    "        output = model.create_chat_completion(\n",
    "            messages = messages,\n",
    "            max_tokens = maxtokens,\n",
    "            stop = [\"</s>\", \"[/INST]\", \"/INST\", '<|eot_id|>', '|end'],\n",
    "            temperature = 0.1,\n",
    "            repeat_penalty = 1.4,\n",
    "        )\n",
    "    delta = datetime.datetime.now() - start\n",
    "    console.print(f\"[bright_green bold on black]Question: {query}\")\n",
    "    console.print(output[\"choices\"][0][\"message\"][\"content\"])\n",
    "    console.print(f\"Completed in: [bold_bright_red]{delta}\")\n",
    "    return output[\"choices\"][0][\"message\"][\"content\"], docs\n"
   ]
  },
  {
   "cell_type": "code",
   "execution_count": 13,
   "metadata": {},
   "outputs": [
    {
     "data": {
      "text/html": [
       "<pre style=\"white-space:pre;overflow-x:auto;line-height:normal;font-family:Menlo,'DejaVu Sans Mono',consolas,'Courier New',monospace\"></pre>\n"
      ],
      "text/plain": []
     },
     "metadata": {},
     "output_type": "display_data"
    },
    {
     "data": {
      "text/html": [
       "<pre style=\"white-space:pre;overflow-x:auto;line-height:normal;font-family:Menlo,'DejaVu Sans Mono',consolas,'Courier New',monospace\"><span style=\"color: #00ff00; text-decoration-color: #00ff00; background-color: #000000; font-weight: bold\">Question: What is the small business entrepreneurship?</span>\n",
       "</pre>\n"
      ],
      "text/plain": [
       "\u001b[1;92;40mQuestion: What is the small business entrepreneurship?\u001b[0m\n"
      ]
     },
     "metadata": {},
     "output_type": "display_data"
    },
    {
     "data": {
      "text/html": [
       "<pre style=\"white-space:pre;overflow-x:auto;line-height:normal;font-family:Menlo,'DejaVu Sans Mono',consolas,'Courier New',monospace\">Small businesses focus on building a loyal customer base, providing reliable goods or \n",
       "services within their community.\n",
       "\n",
       "Therefore,\n",
       "Answer:\n",
       "\n",
       "The question <span style=\"color: #008000; text-decoration-color: #008000\">\"What is the Small Business Entrepreneurship?\"</span> refers to how entrepreneurs \n",
       "operate in today's competitive landscape. It involves establishing local and regional \n",
       "enterprises that cater specifically towards specific geographic areas such as small towns \n",
       "with limited resources but high demand for products/services like bakeries, bookstores or \n",
       "any other niche businesses.\n",
       "\n",
       "In contrast, startups are more focused on innovation rather than traditional business \n",
       "models where the focus is usually to create new ideas in a competitive market.\n",
       "</pre>\n"
      ],
      "text/plain": [
       "Small businesses focus on building a loyal customer base, providing reliable goods or \n",
       "services within their community.\n",
       "\n",
       "Therefore,\n",
       "Answer:\n",
       "\n",
       "The question \u001b[32m\"What is the Small Business Entrepreneurship?\"\u001b[0m refers to how entrepreneurs \n",
       "operate in today's competitive landscape. It involves establishing local and regional \n",
       "enterprises that cater specifically towards specific geographic areas such as small towns \n",
       "with limited resources but high demand for products/services like bakeries, bookstores or \n",
       "any other niche businesses.\n",
       "\n",
       "In contrast, startups are more focused on innovation rather than traditional business \n",
       "models where the focus is usually to create new ideas in a competitive market.\n"
      ]
     },
     "metadata": {},
     "output_type": "display_data"
    },
    {
     "data": {
      "text/html": [
       "<pre style=\"white-space:pre;overflow-x:auto;line-height:normal;font-family:Menlo,'DejaVu Sans Mono',consolas,'Courier New',monospace\">Completed in: <span style=\"color: #00ff00; text-decoration-color: #00ff00; font-weight: bold\">0:00:07</span>.<span style=\"color: #008080; text-decoration-color: #008080; font-weight: bold\">694572</span>\n",
       "</pre>\n"
      ],
      "text/plain": [
       "Completed in: \u001b[1;92m0:00:07\u001b[0m.\u001b[1;36m694572\u001b[0m\n"
      ]
     },
     "metadata": {},
     "output_type": "display_data"
    }
   ],
   "source": [
    "res, notetext = QwenQnA(\"What is the small business entrepreneurship?\", vector_store, 4, 500, qwen05b)"
   ]
  },
  {
   "cell_type": "code",
   "execution_count": 14,
   "metadata": {},
   "outputs": [
    {
     "data": {
      "text/html": [
       "<pre style=\"white-space:pre;overflow-x:auto;line-height:normal;font-family:Menlo,'DejaVu Sans Mono',consolas,'Courier New',monospace\">Small businesses focus on building a loyal customer base, providing reliable goods or \n",
       "services within their community.\n",
       "\n",
       "Therefore,\n",
       "Answer:\n",
       "\n",
       "The question <span style=\"color: #008000; text-decoration-color: #008000\">\"What is the Small Business Entrepreneurship?\"</span> refers to how entrepreneurs \n",
       "operate in today's competitive landscape. It involves establishing local and regional \n",
       "enterprises that cater specifically towards specific geographic areas such as small towns \n",
       "with limited resources but high demand for products/services like bakeries, bookstores or \n",
       "any other niche businesses.\n",
       "\n",
       "In contrast, startups are more focused on innovation rather than traditional business \n",
       "models where the focus is usually to create new ideas in a competitive market.\n",
       "</pre>\n"
      ],
      "text/plain": [
       "Small businesses focus on building a loyal customer base, providing reliable goods or \n",
       "services within their community.\n",
       "\n",
       "Therefore,\n",
       "Answer:\n",
       "\n",
       "The question \u001b[32m\"What is the Small Business Entrepreneurship?\"\u001b[0m refers to how entrepreneurs \n",
       "operate in today's competitive landscape. It involves establishing local and regional \n",
       "enterprises that cater specifically towards specific geographic areas such as small towns \n",
       "with limited resources but high demand for products/services like bakeries, bookstores or \n",
       "any other niche businesses.\n",
       "\n",
       "In contrast, startups are more focused on innovation rather than traditional business \n",
       "models where the focus is usually to create new ideas in a competitive market.\n"
      ]
     },
     "metadata": {},
     "output_type": "display_data"
    },
    {
     "data": {
      "text/html": [
       "<pre style=\"white-space:pre;overflow-x:auto;line-height:normal;font-family:Menlo,'DejaVu Sans Mono',consolas,'Courier New',monospace\"><span style=\"font-weight: bold\">[</span>\n",
       "    <span style=\"color: #800080; text-decoration-color: #800080; font-weight: bold\">Document</span><span style=\"font-weight: bold\">(</span>\n",
       "        <span style=\"color: #808000; text-decoration-color: #808000\">page_content</span>=<span style=\"color: #008000; text-decoration-color: #008000\">' failure in a competitive landscape.\\nFocus on Technology: Many </span>\n",
       "<span style=\"color: #008000; text-decoration-color: #008000\">startups leverage technology to create innovative products or services.\\n2. Small business</span>\n",
       "<span style=\"color: #008000; text-decoration-color: #008000\">entrepreneurship\\nThe backbone of many communities, small business entrepreneurship </span>\n",
       "<span style=\"color: #008000; text-decoration-color: #008000\">centers around establishing a local business that caters to a specific niche or geographic</span>\n",
       "<span style=\"color: #008000; text-decoration-color: #008000\">area. Think your friendly neighborhood bakery or a local bookstore. These ventures often </span>\n",
       "<span style=\"color: #008000; text-decoration-color: #008000\">prioritize:\\nStability and Sustainability: Small businesses focus on building a loyal </span>\n",
       "<span style=\"color: #008000; text-decoration-color: #008000\">customer base and providing reliable goods and services within their community.\\nCommunity</span>\n",
       "<span style=\"color: #008000; text-decoration-color: #008000\">Focus: Understanding and catering to the specific needs of the local market is </span>\n",
       "<span style=\"color: #008000; text-decoration-color: #008000\">paramount.\\nLower Risk Profile: While growth is still important, small businesses tend to </span>\n",
       "<span style=\"color: #008000; text-decoration-color: #008000\">prioritize stability over rapid expansion.\\n3. Corporate entrepreneurship </span>\n",
       "<span style=\"color: #008000; text-decoration-color: #008000\">(Intrapreneurship)\\nIn'</span>,\n",
       "        <span style=\"color: #808000; text-decoration-color: #808000\">metadata</span>=<span style=\"font-weight: bold\">{</span><span style=\"color: #008000; text-decoration-color: #008000\">'source'</span>: <span style=\"color: #008000; text-decoration-color: #008000\">'What is Entrepreneurship 5 Factors Affecting Ent.txt'</span><span style=\"font-weight: bold\">}</span>\n",
       "    <span style=\"font-weight: bold\">)</span>,\n",
       "    <span style=\"color: #800080; text-decoration-color: #800080; font-weight: bold\">Document</span><span style=\"font-weight: bold\">(</span>\n",
       "        <span style=\"color: #808000; text-decoration-color: #808000\">page_content</span>=<span style=\"color: #008000; text-decoration-color: #008000\">' If so, then entrepreneurship might be the path for you! But what </span>\n",
       "<span style=\"color: #008000; text-decoration-color: #008000\">exactly is entrepreneurship?\\nEntrepreneurship is the process of identifying </span>\n",
       "<span style=\"color: #008000; text-decoration-color: #008000\">opportunities, creating new businesses, and taking calculated risks to bring ideas to </span>\n",
       "<span style=\"color: #008000; text-decoration-color: #008000\">life. It’s a dynamic and challenging journey filled with both immense rewards and </span>\n",
       "<span style=\"color: #008000; text-decoration-color: #008000\">potential setbacks.\\nI. What is entrepreneurship\\nThe world of business is brimming with </span>\n",
       "<span style=\"color: #008000; text-decoration-color: #008000\">established giants and innovative upstarts. But what drives the creation of these new </span>\n",
       "<span style=\"color: #008000; text-decoration-color: #008000\">ventures? This is where the concept of entrepreneurship steps in.\\nEntrepreneurship is the</span>\n",
       "<span style=\"color: #008000; text-decoration-color: #008000\">process of identifying opportunities, turning ideas into reality, and creating new </span>\n",
       "<span style=\"color: #008000; text-decoration-color: #008000\">businesses. It’s a captivating blend of innovation, initiative, and calculated </span>\n",
       "<span style=\"color: #008000; text-decoration-color: #008000\">risk-taking. Entrepreneurs are the'</span>,\n",
       "        <span style=\"color: #808000; text-decoration-color: #808000\">metadata</span>=<span style=\"font-weight: bold\">{</span><span style=\"color: #008000; text-decoration-color: #008000\">'source'</span>: <span style=\"color: #008000; text-decoration-color: #008000\">'What is Entrepreneurship 5 Factors Affecting Ent.txt'</span><span style=\"font-weight: bold\">}</span>\n",
       "    <span style=\"font-weight: bold\">)</span>,\n",
       "    <span style=\"color: #800080; text-decoration-color: #800080; font-weight: bold\">Document</span><span style=\"font-weight: bold\">(</span>\n",
       "        <span style=\"color: #808000; text-decoration-color: #808000\">page_content</span>=<span style=\"color: #008000; text-decoration-color: #008000\">' Opportunity\\nIdentifying a Valid Need: The cornerstone of any </span>\n",
       "<span style=\"color: #008000; text-decoration-color: #008000\">successful business is a genuine need or problem in the market. Entrepreneurs need to </span>\n",
       "<span style=\"color: #008000; text-decoration-color: #008000\">conduct thorough market research to validate their idea, understand their target audience,</span>\n",
       "<span style=\"color: #008000; text-decoration-color: #008000\">and ensure there’s a sufficient customer base for their product or service.\\nCompetitive </span>\n",
       "<span style=\"color: #008000; text-decoration-color: #008000\">Landscape: It’s crucial to analyze existing competitors, their strengths and weaknesses, </span>\n",
       "<span style=\"color: #008000; text-decoration-color: #008000\">and any potential gaps in the market your venture can address. Can you offer a unique </span>\n",
       "<span style=\"color: #008000; text-decoration-color: #008000\">value proposition or a more efficient solution?\\n2. Funding and Resources\\nSecuring </span>\n",
       "<span style=\"color: #008000; text-decoration-color: #008000\">Capital: Launching and growing a business requires financial resources. Entrepreneurs need</span>\n",
       "<span style=\"color: #008000; text-decoration-color: #008000\">to explore different funding options, such as personal savings, loans, angel investors, or</span>\n",
       "<span style=\"color: #008000; text-decoration-color: #008000\">venture capital. The amount'</span>,\n",
       "        <span style=\"color: #808000; text-decoration-color: #808000\">metadata</span>=<span style=\"font-weight: bold\">{</span><span style=\"color: #008000; text-decoration-color: #008000\">'source'</span>: <span style=\"color: #008000; text-decoration-color: #008000\">'What is Entrepreneurship 5 Factors Affecting Ent.txt'</span><span style=\"font-weight: bold\">}</span>\n",
       "    <span style=\"font-weight: bold\">)</span>,\n",
       "    <span style=\"color: #800080; text-decoration-color: #800080; font-weight: bold\">Document</span><span style=\"font-weight: bold\">(</span>\n",
       "        <span style=\"color: #808000; text-decoration-color: #808000\">page_content</span>=<span style=\"color: #008000; text-decoration-color: #008000\">' fill gaps left by failing businesses and offer alternative </span>\n",
       "<span style=\"color: #008000; text-decoration-color: #008000\">solutions during challenging times.\\n7. Empowering Individuals: Entrepreneurship allows </span>\n",
       "<span style=\"color: #008000; text-decoration-color: #008000\">individuals to take control of their destinies and build something meaningful. It fosters </span>\n",
       "<span style=\"color: #008000; text-decoration-color: #008000\">self-reliance, creativity, and problem-solving skills, empowering people to shape their </span>\n",
       "<span style=\"color: #008000; text-decoration-color: #008000\">own futures and contribute to a more dynamic society.\\nIV. Important entrepreneurship </span>\n",
       "<span style=\"color: #008000; text-decoration-color: #008000\">skills\\nImportant entrepreneurship skills\\nThe world of entrepreneurship is an exciting </span>\n",
       "<span style=\"color: #008000; text-decoration-color: #008000\">adventure, but it’s not without its challenges. To navigate the twists and turns </span>\n",
       "<span style=\"color: #008000; text-decoration-color: #008000\">successfully, a unique blend of skills and attributes is essential.\\nHere are some of the </span>\n",
       "<span style=\"color: #008000; text-decoration-color: #008000\">most important skills for aspiring entrepreneurs:\\n1. Creativity and Innovation\\nThinking </span>\n",
       "<span style=\"color: #008000; text-decoration-color: #008000\">Outside the Box: Entrepreneurs need'</span>,\n",
       "        <span style=\"color: #808000; text-decoration-color: #808000\">metadata</span>=<span style=\"font-weight: bold\">{</span><span style=\"color: #008000; text-decoration-color: #008000\">'source'</span>: <span style=\"color: #008000; text-decoration-color: #008000\">'What is Entrepreneurship 5 Factors Affecting Ent.txt'</span><span style=\"font-weight: bold\">}</span>\n",
       "    <span style=\"font-weight: bold\">)</span>\n",
       "<span style=\"font-weight: bold\">]</span>\n",
       "</pre>\n"
      ],
      "text/plain": [
       "\u001b[1m[\u001b[0m\n",
       "    \u001b[1;35mDocument\u001b[0m\u001b[1m(\u001b[0m\n",
       "        \u001b[33mpage_content\u001b[0m=\u001b[32m' failure in a competitive landscape.\\nFocus on Technology: Many \u001b[0m\n",
       "\u001b[32mstartups leverage technology to create innovative products or services.\\n2. Small business\u001b[0m\n",
       "\u001b[32mentrepreneurship\\nThe backbone of many communities, small business entrepreneurship \u001b[0m\n",
       "\u001b[32mcenters around establishing a local business that caters to a specific niche or geographic\u001b[0m\n",
       "\u001b[32marea. Think your friendly neighborhood bakery or a local bookstore. These ventures often \u001b[0m\n",
       "\u001b[32mprioritize:\\nStability and Sustainability: Small businesses focus on building a loyal \u001b[0m\n",
       "\u001b[32mcustomer base and providing reliable goods and services within their community.\\nCommunity\u001b[0m\n",
       "\u001b[32mFocus: Understanding and catering to the specific needs of the local market is \u001b[0m\n",
       "\u001b[32mparamount.\\nLower Risk Profile: While growth is still important, small businesses tend to \u001b[0m\n",
       "\u001b[32mprioritize stability over rapid expansion.\\n3. Corporate entrepreneurship \u001b[0m\n",
       "\u001b[32m(\u001b[0m\u001b[32mIntrapreneurship\u001b[0m\u001b[32m)\u001b[0m\u001b[32m\\nIn'\u001b[0m,\n",
       "        \u001b[33mmetadata\u001b[0m=\u001b[1m{\u001b[0m\u001b[32m'source'\u001b[0m: \u001b[32m'What is Entrepreneurship 5 Factors Affecting Ent.txt'\u001b[0m\u001b[1m}\u001b[0m\n",
       "    \u001b[1m)\u001b[0m,\n",
       "    \u001b[1;35mDocument\u001b[0m\u001b[1m(\u001b[0m\n",
       "        \u001b[33mpage_content\u001b[0m=\u001b[32m' If so, then entrepreneurship might be the path for you! But what \u001b[0m\n",
       "\u001b[32mexactly is entrepreneurship?\\nEntrepreneurship is the process of identifying \u001b[0m\n",
       "\u001b[32mopportunities, creating new businesses, and taking calculated risks to bring ideas to \u001b[0m\n",
       "\u001b[32mlife. It’s a dynamic and challenging journey filled with both immense rewards and \u001b[0m\n",
       "\u001b[32mpotential setbacks.\\nI. What is entrepreneurship\\nThe world of business is brimming with \u001b[0m\n",
       "\u001b[32mestablished giants and innovative upstarts. But what drives the creation of these new \u001b[0m\n",
       "\u001b[32mventures? This is where the concept of entrepreneurship steps in.\\nEntrepreneurship is the\u001b[0m\n",
       "\u001b[32mprocess of identifying opportunities, turning ideas into reality, and creating new \u001b[0m\n",
       "\u001b[32mbusinesses. It’s a captivating blend of innovation, initiative, and calculated \u001b[0m\n",
       "\u001b[32mrisk-taking. Entrepreneurs are the'\u001b[0m,\n",
       "        \u001b[33mmetadata\u001b[0m=\u001b[1m{\u001b[0m\u001b[32m'source'\u001b[0m: \u001b[32m'What is Entrepreneurship 5 Factors Affecting Ent.txt'\u001b[0m\u001b[1m}\u001b[0m\n",
       "    \u001b[1m)\u001b[0m,\n",
       "    \u001b[1;35mDocument\u001b[0m\u001b[1m(\u001b[0m\n",
       "        \u001b[33mpage_content\u001b[0m=\u001b[32m' Opportunity\\nIdentifying a Valid Need: The cornerstone of any \u001b[0m\n",
       "\u001b[32msuccessful business is a genuine need or problem in the market. Entrepreneurs need to \u001b[0m\n",
       "\u001b[32mconduct thorough market research to validate their idea, understand their target audience,\u001b[0m\n",
       "\u001b[32mand ensure there’s a sufficient customer base for their product or service.\\nCompetitive \u001b[0m\n",
       "\u001b[32mLandscape: It’s crucial to analyze existing competitors, their strengths and weaknesses, \u001b[0m\n",
       "\u001b[32mand any potential gaps in the market your venture can address. Can you offer a unique \u001b[0m\n",
       "\u001b[32mvalue proposition or a more efficient solution?\\n2. Funding and Resources\\nSecuring \u001b[0m\n",
       "\u001b[32mCapital: Launching and growing a business requires financial resources. Entrepreneurs need\u001b[0m\n",
       "\u001b[32mto explore different funding options, such as personal savings, loans, angel investors, or\u001b[0m\n",
       "\u001b[32mventure capital. The amount'\u001b[0m,\n",
       "        \u001b[33mmetadata\u001b[0m=\u001b[1m{\u001b[0m\u001b[32m'source'\u001b[0m: \u001b[32m'What is Entrepreneurship 5 Factors Affecting Ent.txt'\u001b[0m\u001b[1m}\u001b[0m\n",
       "    \u001b[1m)\u001b[0m,\n",
       "    \u001b[1;35mDocument\u001b[0m\u001b[1m(\u001b[0m\n",
       "        \u001b[33mpage_content\u001b[0m=\u001b[32m' fill gaps left by failing businesses and offer alternative \u001b[0m\n",
       "\u001b[32msolutions during challenging times.\\n7. Empowering Individuals: Entrepreneurship allows \u001b[0m\n",
       "\u001b[32mindividuals to take control of their destinies and build something meaningful. It fosters \u001b[0m\n",
       "\u001b[32mself-reliance, creativity, and problem-solving skills, empowering people to shape their \u001b[0m\n",
       "\u001b[32mown futures and contribute to a more dynamic society.\\nIV. Important entrepreneurship \u001b[0m\n",
       "\u001b[32mskills\\nImportant entrepreneurship skills\\nThe world of entrepreneurship is an exciting \u001b[0m\n",
       "\u001b[32madventure, but it’s not without its challenges. To navigate the twists and turns \u001b[0m\n",
       "\u001b[32msuccessfully, a unique blend of skills and attributes is essential.\\nHere are some of the \u001b[0m\n",
       "\u001b[32mmost important skills for aspiring entrepreneurs:\\n1. Creativity and Innovation\\nThinking \u001b[0m\n",
       "\u001b[32mOutside the Box: Entrepreneurs need'\u001b[0m,\n",
       "        \u001b[33mmetadata\u001b[0m=\u001b[1m{\u001b[0m\u001b[32m'source'\u001b[0m: \u001b[32m'What is Entrepreneurship 5 Factors Affecting Ent.txt'\u001b[0m\u001b[1m}\u001b[0m\n",
       "    \u001b[1m)\u001b[0m\n",
       "\u001b[1m]\u001b[0m\n"
      ]
     },
     "metadata": {},
     "output_type": "display_data"
    }
   ],
   "source": [
    "console.print(res)\n",
    "console.print(notetext)"
   ]
  },
  {
   "cell_type": "code",
   "execution_count": null,
   "metadata": {},
   "outputs": [],
   "source": []
  }
 ],
 "metadata": {
  "kernelspec": {
   "display_name": "env",
   "language": "python",
   "name": "python3"
  },
  "language_info": {
   "codemirror_mode": {
    "name": "ipython",
    "version": 3
   },
   "file_extension": ".py",
   "mimetype": "text/x-python",
   "name": "python",
   "nbconvert_exporter": "python",
   "pygments_lexer": "ipython3",
   "version": "3.12.3"
  }
 },
 "nbformat": 4,
 "nbformat_minor": 2
}
